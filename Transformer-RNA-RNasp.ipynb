{
 "cells": [
  {
   "cell_type": "markdown",
   "id": "b0aa43a3",
   "metadata": {},
   "source": [
    "# Apply Encoder of Transformer Model (Self Attention) to Explore RNA-Protein Binding"
   ]
  },
  {
   "cell_type": "code",
   "execution_count": 65,
   "id": "febe31d0-34ea-4d56-8394-e46f02165475",
   "metadata": {},
   "outputs": [],
   "source": [
    "import pandas as pd\n",
    "import tensorflow as tf\n",
    "from tensorflow.keras import layers\n",
    "import tensorflow_addons as tfa\n",
    "import numpy as np\n",
    "import matplotlib.pyplot as plt\n",
    "import seaborn as sns\n",
    "from sklearn.model_selection import train_test_split\n",
    "from sklearn.preprocessing import MinMaxScaler, Normalizer, KBinsDiscretizer\n",
    "from sklearn.pipeline import Pipeline, make_pipeline\n",
    "import datetime"
   ]
  },
  {
   "attachments": {},
   "cell_type": "markdown",
   "id": "cad2fbca",
   "metadata": {},
   "source": [
    "## Data preparation\n"
   ]
  },
  {
   "cell_type": "code",
   "execution_count": 66,
   "id": "1062ce22",
   "metadata": {},
   "outputs": [
    {
     "data": {
      "text/html": [
       "<div>\n",
       "<style scoped>\n",
       "    .dataframe tbody tr th:only-of-type {\n",
       "        vertical-align: middle;\n",
       "    }\n",
       "\n",
       "    .dataframe tbody tr th {\n",
       "        vertical-align: top;\n",
       "    }\n",
       "\n",
       "    .dataframe thead th {\n",
       "        text-align: right;\n",
       "    }\n",
       "</style>\n",
       "<table border=\"1\" class=\"dataframe\">\n",
       "  <thead>\n",
       "    <tr style=\"text-align: right;\">\n",
       "      <th></th>\n",
       "      <th>Sequence</th>\n",
       "      <th>21A-1-6</th>\n",
       "      <th>21B-1-6</th>\n",
       "      <th>21C-1-6</th>\n",
       "    </tr>\n",
       "  </thead>\n",
       "  <tbody>\n",
       "    <tr>\n",
       "      <th>0</th>\n",
       "      <td>AAAAAA</td>\n",
       "      <td>1.657296</td>\n",
       "      <td>0.983233</td>\n",
       "      <td>1.307640</td>\n",
       "    </tr>\n",
       "    <tr>\n",
       "      <th>1</th>\n",
       "      <td>AAAAAC</td>\n",
       "      <td>1.599794</td>\n",
       "      <td>1.014041</td>\n",
       "      <td>1.560623</td>\n",
       "    </tr>\n",
       "    <tr>\n",
       "      <th>2</th>\n",
       "      <td>AAAAAG</td>\n",
       "      <td>1.335313</td>\n",
       "      <td>0.817613</td>\n",
       "      <td>0.355829</td>\n",
       "    </tr>\n",
       "    <tr>\n",
       "      <th>3</th>\n",
       "      <td>AAAAAU</td>\n",
       "      <td>1.757485</td>\n",
       "      <td>1.396370</td>\n",
       "      <td>1.560339</td>\n",
       "    </tr>\n",
       "    <tr>\n",
       "      <th>4</th>\n",
       "      <td>AAAACA</td>\n",
       "      <td>1.405845</td>\n",
       "      <td>1.326292</td>\n",
       "      <td>0.968145</td>\n",
       "    </tr>\n",
       "  </tbody>\n",
       "</table>\n",
       "</div>"
      ],
      "text/plain": [
       "  Sequence   21A-1-6   21B-1-6   21C-1-6\n",
       "0   AAAAAA  1.657296  0.983233  1.307640\n",
       "1   AAAAAC  1.599794  1.014041  1.560623\n",
       "2   AAAAAG  1.335313  0.817613  0.355829\n",
       "3   AAAAAU  1.757485  1.396370  1.560339\n",
       "4   AAAACA  1.405845  1.326292  0.968145"
      ]
     },
     "execution_count": 66,
     "metadata": {},
     "output_type": "execute_result"
    }
   ],
   "source": [
    "df_RNaseP_ABC = pd.read_csv(\"21ABC rk ave summary.csv\")\n",
    "df_RNaseP_ABC.head()"
   ]
  },
  {
   "cell_type": "code",
   "execution_count": 67,
   "id": "7d01db02",
   "metadata": {},
   "outputs": [
    {
     "name": "stderr",
     "output_type": "stream",
     "text": [
      "/var/folders/x_/gdpx2y_53xb045v6zhcn7rrr0000gn/T/ipykernel_8637/4053962033.py:6: SettingWithCopyWarning: \n",
      "A value is trying to be set on a copy of a slice from a DataFrame\n",
      "\n",
      "See the caveats in the documentation: https://pandas.pydata.org/pandas-docs/stable/user_guide/indexing.html#returning-a-view-versus-a-copy\n",
      "  df_input.RKA[df_input.RKA <= 0] = 0.0\n"
     ]
    },
    {
     "data": {
      "text/html": [
       "<div>\n",
       "<style scoped>\n",
       "    .dataframe tbody tr th:only-of-type {\n",
       "        vertical-align: middle;\n",
       "    }\n",
       "\n",
       "    .dataframe tbody tr th {\n",
       "        vertical-align: top;\n",
       "    }\n",
       "\n",
       "    .dataframe thead th {\n",
       "        text-align: right;\n",
       "    }\n",
       "</style>\n",
       "<table border=\"1\" class=\"dataframe\">\n",
       "  <thead>\n",
       "    <tr style=\"text-align: right;\">\n",
       "      <th></th>\n",
       "      <th>Sequence</th>\n",
       "      <th>RKA</th>\n",
       "    </tr>\n",
       "  </thead>\n",
       "  <tbody>\n",
       "    <tr>\n",
       "      <th>30</th>\n",
       "      <td>GGGAGACCGGAAUUCAGAUUGAUGAAAAACUG</td>\n",
       "      <td>0.0</td>\n",
       "    </tr>\n",
       "    <tr>\n",
       "      <th>173</th>\n",
       "      <td>GGGAGACCGGAAUUCAGAUUGAUGAAAAGGUC</td>\n",
       "      <td>0.0</td>\n",
       "    </tr>\n",
       "    <tr>\n",
       "      <th>286</th>\n",
       "      <td>GGGAGACCGGAAUUCAGAUUGAUGAAACACUG</td>\n",
       "      <td>0.0</td>\n",
       "    </tr>\n",
       "    <tr>\n",
       "      <th>362</th>\n",
       "      <td>GGGAGACCGGAAUUCAGAUUGAUGAAACCGGG</td>\n",
       "      <td>0.0</td>\n",
       "    </tr>\n",
       "    <tr>\n",
       "      <th>363</th>\n",
       "      <td>GGGAGACCGGAAUUCAGAUUGAUGAAACCGGU</td>\n",
       "      <td>0.0</td>\n",
       "    </tr>\n",
       "    <tr>\n",
       "      <th>...</th>\n",
       "      <td>...</td>\n",
       "      <td>...</td>\n",
       "    </tr>\n",
       "    <tr>\n",
       "      <th>3998</th>\n",
       "      <td>GCAUGCACGAAAGUACGUGCUAUGAAUUGCUG</td>\n",
       "      <td>0.0</td>\n",
       "    </tr>\n",
       "    <tr>\n",
       "      <th>4011</th>\n",
       "      <td>GCAUGCACGAAAGUACGUGCUAUGAAUUGGGU</td>\n",
       "      <td>0.0</td>\n",
       "    </tr>\n",
       "    <tr>\n",
       "      <th>4026</th>\n",
       "      <td>GCAUGCACGAAAGUACGUGCUAUGAAUUGUGG</td>\n",
       "      <td>0.0</td>\n",
       "    </tr>\n",
       "    <tr>\n",
       "      <th>4062</th>\n",
       "      <td>GCAUGCACGAAAGUACGUGCUAUGAAUUUCUG</td>\n",
       "      <td>0.0</td>\n",
       "    </tr>\n",
       "    <tr>\n",
       "      <th>4075</th>\n",
       "      <td>GCAUGCACGAAAGUACGUGCUAUGAAUUUGGU</td>\n",
       "      <td>0.0</td>\n",
       "    </tr>\n",
       "  </tbody>\n",
       "</table>\n",
       "<p>608 rows × 2 columns</p>\n",
       "</div>"
      ],
      "text/plain": [
       "                              Sequence  RKA\n",
       "30    GGGAGACCGGAAUUCAGAUUGAUGAAAAACUG  0.0\n",
       "173   GGGAGACCGGAAUUCAGAUUGAUGAAAAGGUC  0.0\n",
       "286   GGGAGACCGGAAUUCAGAUUGAUGAAACACUG  0.0\n",
       "362   GGGAGACCGGAAUUCAGAUUGAUGAAACCGGG  0.0\n",
       "363   GGGAGACCGGAAUUCAGAUUGAUGAAACCGGU  0.0\n",
       "...                                ...  ...\n",
       "3998  GCAUGCACGAAAGUACGUGCUAUGAAUUGCUG  0.0\n",
       "4011  GCAUGCACGAAAGUACGUGCUAUGAAUUGGGU  0.0\n",
       "4026  GCAUGCACGAAAGUACGUGCUAUGAAUUGUGG  0.0\n",
       "4062  GCAUGCACGAAAGUACGUGCUAUGAAUUUCUG  0.0\n",
       "4075  GCAUGCACGAAAGUACGUGCUAUGAAUUUGGU  0.0\n",
       "\n",
       "[608 rows x 2 columns]"
      ]
     },
     "execution_count": 67,
     "metadata": {},
     "output_type": "execute_result"
    }
   ],
   "source": [
    "df_RNaseP_A = pd.DataFrame({\"Sequence\":df_RNaseP_ABC.Sequence.apply(lambda x: \"GGGAGACCGGAAUUCAGAUUGAUGAA\"+x), \"RKA\":df_RNaseP_ABC[\"21A-1-6\"]})\n",
    "df_RNaseP_B = pd.DataFrame({\"Sequence\":df_RNaseP_ABC.Sequence.apply(lambda x: \"CCCUCUGGCCUUAAGUCUAACAUGAA\"+x), \"RKA\":df_RNaseP_ABC[\"21B-1-6\"]})\n",
    "df_RNaseP_C = pd.DataFrame({\"Sequence\":df_RNaseP_ABC.Sequence.apply(lambda x: \"GCAUGCACGAAAGUACGUGCUAUGAA\"+x), \"RKA\":df_RNaseP_ABC[\"21C-1-6\"]})\n",
    "\n",
    "df_input = pd.concat([df_RNaseP_A, df_RNaseP_B, df_RNaseP_C], axis=0)\n",
    "df_input.RKA[df_input.RKA <= 0] = 0.0\n",
    "df_input[df_input.RKA <= 0]"
   ]
  },
  {
   "cell_type": "markdown",
   "id": "6d009b3a",
   "metadata": {},
   "source": [
    "## Set hyper parameters"
   ]
  },
  {
   "cell_type": "code",
   "execution_count": 68,
   "id": "09d15ca1",
   "metadata": {},
   "outputs": [],
   "source": [
    "seq_length=32\n",
    "num_layers=1\n",
    "d_model=21\n",
    "num_heads=2\n",
    "dff=64"
   ]
  },
  {
   "cell_type": "markdown",
   "id": "b5aa0130",
   "metadata": {},
   "source": [
    "## Functions to handle the RNA Inputs"
   ]
  },
  {
   "cell_type": "code",
   "execution_count": 69,
   "id": "6beb6b4e-b7bc-4e30-b047-71a74f098685",
   "metadata": {},
   "outputs": [],
   "source": [
    "def padding_Seq(x):\n",
    "    return \"NNN\"+x+\"NN\"\n",
    "    \n",
    "def cutWord(x, window=1, length = seq_length):\n",
    "    seq2word = []\n",
    "    for i in range(length):\n",
    "        seq2word.append(x[i*window:i*window+window])\n",
    "    return \" \".join(seq2word)\n",
    "\n",
    "def RKA_bin(x):\n",
    "    if x >= 0.8:\n",
    "        return(1)\n",
    "    else:\n",
    "        return(0)\n",
    "\n",
    "def MFE_bin(x):\n",
    "    if x >= -14.:\n",
    "        return(1)\n",
    "    else:\n",
    "        return(0)"
   ]
  },
  {
   "cell_type": "markdown",
   "id": "2fdcebc1",
   "metadata": {},
   "source": [
    "## Normalization"
   ]
  },
  {
   "cell_type": "code",
   "execution_count": 70,
   "id": "f50dce0e",
   "metadata": {},
   "outputs": [
    {
     "name": "stdout",
     "output_type": "stream",
     "text": [
      "MinMaxScaler()\n"
     ]
    }
   ],
   "source": [
    "from sklearn.preprocessing import MinMaxScaler\n",
    "scaler = MinMaxScaler()\n",
    "print(scaler.fit(df_input[[\"RKA\"]]))\n",
    "\n",
    "df_input[\"RKA_norm\"] = scaler.transform(df_input[[\"RKA\"]])\n",
    "df_input[[\"RKA_logplus1\"]] = df_input[[\"RKA\"]].apply(lambda x: np.log(1+x))"
   ]
  },
  {
   "cell_type": "code",
   "execution_count": 71,
   "id": "c20b9904",
   "metadata": {},
   "outputs": [
    {
     "data": {
      "text/plain": [
       "<AxesSubplot:ylabel='Count'>"
      ]
     },
     "execution_count": 71,
     "metadata": {},
     "output_type": "execute_result"
    },
    {
     "data": {
      "image/png": "[encoded data removed]",
      "text/plain": [
       "<Figure size 2000x500 with 1 Axes>"
      ]
     },
     "metadata": {},
     "output_type": "display_data"
    }
   ],
   "source": [
    "sns.histplot(df_input[[\"RKA_logplus1\"]])"
   ]
  },
  {
   "cell_type": "markdown",
   "id": "71ae9562",
   "metadata": {},
   "source": [
    "## Create dataset for Tensorflow model"
   ]
  },
  {
   "cell_type": "code",
   "execution_count": 72,
   "id": "18820a02-89ad-45a1-8de1-44bb348c6fdb",
   "metadata": {},
   "outputs": [
    {
     "name": "stderr",
     "output_type": "stream",
     "text": [
      "2023-02-18 23:37:12.207938: I tensorflow/core/grappler/optimizers/custom_graph_optimizer_registry.cc:113] Plugin optimizer for device_type GPU is enabled.\n"
     ]
    }
   ],
   "source": [
    "df_input[\"MFE_level\"] = df_input.RKA.apply(RKA_bin)\n",
    "#target = df_input[[\"MFE_level\",\"RKA_level\"]].copy()\n",
    "sequences = df_input[[\"Sequence\"]].copy()\n",
    "seq_spaced = sequences.applymap(cutWord)\n",
    "\n",
    "vectorize_layer = tf.keras.layers.TextVectorization(max_tokens=d_model, standardize='lower_and_strip_punctuation', split='whitespace', ngrams=None, output_mode='int')\n",
    "vectorize_layer.adapt(seq_spaced)\n",
    "\n",
    "#Divide to train and test\n",
    "X_train, X_test, y_train, y_test = train_test_split(seq_spaced, df_input[\"RKA_logplus1\"], test_size=0.33, random_state=42)\n",
    "#vec_seq = vectorize_layer(X_train)\n",
    "#seq_database = v\n",
    "all_vec_seq = vectorize_layer(seq_spaced)\n",
    "all_vec_seq = tf.data.Dataset.from_tensor_slices(all_vec_seq)\n",
    "#target_database = tf.data.Dataset.from_tensor_slices(y_train)\n",
    "target_database = tf.data.Dataset.from_tensor_slices(df_input[\"RKA_logplus1\"])\n",
    "x_test_database = vectorize_layer(X_test)\n",
    "x_test_database = tf.data.Dataset.from_tensor_slices(x_test_database)\n",
    "y_test_database = tf.data.Dataset.from_tensor_slices(y_test)\n"
   ]
  },
  {
   "cell_type": "code",
   "execution_count": 73,
   "id": "eeca1ef5",
   "metadata": {},
   "outputs": [],
   "source": [
    "#train_set = tf.data.Dataset.zip((seq_database, target_database))\n",
    "train_set = tf.data.Dataset.zip((all_vec_seq, target_database))\n",
    "test_dataset = tf.data.Dataset.zip((x_test_database, y_test_database))\n",
    "real_train_set = train_set.batch(50).shuffle(50)\n",
    "test_dataset = test_dataset.batch(50)\n",
    "#next(iter(train_set.batch(10)))"
   ]
  },
  {
   "cell_type": "markdown",
   "id": "93c63d37",
   "metadata": {},
   "source": [
    "## Build Encoder of Transformer model\n",
    "\n",
    "### Self attention"
   ]
  },
  {
   "cell_type": "code",
   "execution_count": 74,
   "id": "b7486e47-19c2-4711-b10d-e75ccf19e07a",
   "metadata": {},
   "outputs": [],
   "source": [
    "def scaled_dot_product_attention(q, k, v, mask=None):\n",
    "    matmul_qk = tf.matmul(q, k, transpose_b=True) # Shape = (..., seq_len_q, seq_len_k)\n",
    "    # scale matmul_qk\n",
    "    dk = tf.cast(tf.shape(k)[-1], tf.float32)\n",
    "    scaled_attention_logits = matmul_qk / tf.math.sqrt(dk)\n",
    "\n",
    "    # add the mask to the scaled tensor.\n",
    "    if mask is not None:\n",
    "        scaled_attention_logits += (mask * -1e9)\n",
    "\n",
    "    # softmax is normalized on the last axis (seq_len_k) so that the scores\n",
    "    # add up to 1.\n",
    "    attention_weights = tf.nn.softmax(scaled_attention_logits, axis=-1)  # (..., seq_len_q, seq_len_k)\n",
    "\n",
    "    # calculate matmul_qk_v\n",
    "    output = tf.matmul(attention_weights, v)  # (..., seq_len_q, depth_v)\n",
    "\n",
    "    return output, attention_weights, matmul_qk\n",
    "\n",
    "#create multi-head attention layer\n",
    "class MultiHeadAttention(tf.keras.layers.Layer):\n",
    "    def __init__(self, d_model, num_heads):\n",
    "        super(MultiHeadAttention, self).__init__()\n",
    "        self.num_heads = num_heads\n",
    "        self.d_model = d_model\n",
    "\n",
    "        #Because for multi-head, head number * depth = multi-head\n",
    "        assert d_model % self.num_heads == 0\n",
    "        self.depth = d_model // self.num_heads\n",
    "\n",
    "        #Set layers for q, k, v\n",
    "        self.wq = tf.keras.layers.Dense(d_model)\n",
    "        self.wk = tf.keras.layers.Dense(d_model)\n",
    "        self.wv = tf.keras.layers.Dense(d_model)\n",
    "\n",
    "        self.dense = tf.keras.layers.Dense(d_model)\n",
    "    \n",
    "    def split_heads(self, x, batch_size):\n",
    "        \"\"\"Split the last dimension into (num_heads, depth).\n",
    "        Transpose the result such that the shape is (batch_size, num_heads, seq_len, depth)\n",
    "        \"\"\"\n",
    "        x = tf.reshape(x, (batch_size, -1, self.num_heads, self.depth)) \n",
    "        return tf.transpose(x, perm=[0, 2, 1, 3]) # shape = (batch_size, num_heads, seq_len, depth)\n",
    "\n",
    "    def call(self, v, k, q, mask):\n",
    "        batch_size = tf.shape(q)[0]\n",
    "        q = self.wq(q)  # (batch_size, seq_len, d_model)\n",
    "        k = self.wk(k)  # (batch_size, seq_len, d_model)\n",
    "        v = self.wv(v)  # (batch_size, seq_len, d_model)\n",
    "\n",
    "        q = self.split_heads(q, batch_size)  # (batch_size, num_heads, seq_len_q, depth)\n",
    "        k = self.split_heads(k, batch_size)  # (batch_size, num_heads, seq_len_k, depth)\n",
    "        v = self.split_heads(v, batch_size)  # (batch_size, num_heads, seq_len_v, depth)\n",
    "\n",
    "        # scaled_attention.shape == (batch_size, num_heads, seq_len_q, depth)\n",
    "        # attention_weights.shape == (batch_size, num_heads, seq_len_q, seq_len_k)\n",
    "        scaled_attention, attention_weights, matmul_qk= scaled_dot_product_attention(\n",
    "            q, k, v, mask)\n",
    "\n",
    "        scaled_attention = tf.transpose(scaled_attention, perm=[0, 2, 1, 3])  # (batch_size, seq_len_q, num_heads, depth)\n",
    "\n",
    "        concat_attention = tf.reshape(scaled_attention,\n",
    "                                  (batch_size, -1, self.d_model))  # (batch_size, seq_len_q, d_model)\n",
    "        output = self.dense(concat_attention)  # (batch_size, seq_len_q, d_model)\n",
    "\n",
    "        return output, attention_weights, matmul_qk"
   ]
  },
  {
   "cell_type": "markdown",
   "id": "51930153",
   "metadata": {},
   "source": [
    "### Fully connected layer and Encoder layer"
   ]
  },
  {
   "cell_type": "code",
   "execution_count": 75,
   "id": "fd1738c8-b834-4375-bf81-bbe3f37cb92e",
   "metadata": {},
   "outputs": [],
   "source": [
    "def point_wise_feed_forward_network(d_model, dff):\n",
    "    return tf.keras.Sequential([\n",
    "        tf.keras.layers.Dense(dff, activation='relu'),  # (batch_size, seq_len, dff)\n",
    "        tf.keras.layers.Dense(d_model)  # (batch_size, seq_len, d_model)\n",
    "        ])\n",
    "        \n",
    "class EncoderLayer(tf.keras.layers.Layer):\n",
    "    def __init__(self, d_model, num_heads, dff, rate=0.1):\n",
    "        super(EncoderLayer, self).__init__()\n",
    "\n",
    "        #define layers\n",
    "        self.mha = MultiHeadAttention(d_model, num_heads)\n",
    "        self.ffn = point_wise_feed_forward_network(d_model, dff)\n",
    "\n",
    "        self.layernorm1 = tf.keras.layers.LayerNormalization(epsilon=1e-6)\n",
    "        self.layernorm2 = tf.keras.layers.LayerNormalization(epsilon=1e-6)\n",
    "\n",
    "        self.dropout1 = tf.keras.layers.Dropout(rate)\n",
    "        self.dropout2 = tf.keras.layers.Dropout(rate)\n",
    "\n",
    "    def call(self, x, training, mask=None):\n",
    "\n",
    "        attn_output, attn_weight, matmul_qk = self.mha(x, x, x, mask)  # (batch_size, input_seq_len, d_model)\n",
    "        attn_output = self.dropout1(attn_output, training=training)\n",
    "        out1 = self.layernorm1(x + attn_output)  # (batch_size, input_seq_len, d_model)\n",
    "\n",
    "        ffn_output = self.ffn(out1)  # (batch_size, input_seq_len, d_model)\n",
    "        ffn_output = self.dropout2(ffn_output, training=training)\n",
    "        out2 = self.layernorm2(out1 + ffn_output)  # (batch_size, input_seq_len, d_model)\n",
    "\n",
    "        return out2, attn_weight, matmul_qk\n"
   ]
  },
  {
   "cell_type": "markdown",
   "id": "3a8ab76d",
   "metadata": {},
   "source": [
    "### Position Encoding"
   ]
  },
  {
   "cell_type": "code",
   "execution_count": 76,
   "id": "b327ace7",
   "metadata": {},
   "outputs": [],
   "source": [
    "def get_angles(pos, i, d_model):\n",
    "    angle_rate = 1/np.power(10000, (2*(i/2))/np.float32(d_model))\n",
    "    return pos*angle_rate\n",
    "\n",
    "def positional_encoding(position, d_model):\n",
    "    angle_rads = get_angles(np.arange(position)[:, np.newaxis],\n",
    "                            np.arange(d_model)[np.newaxis, :]\n",
    "                            ,d_model)\n",
    "    # apply sin to even indices in the array; 2i\n",
    "    angle_rads[:, 0::2] = np.sin(angle_rads[:, 0::2])\n",
    "    # apply cos to odd indices in the array; 2i+1\n",
    "    angle_rads[:, 1::2] = np.cos(angle_rads[:, 1::2])\n",
    "    pos_encoding = angle_rads[np.newaxis, ...]\n",
    "    return tf.cast(pos_encoding, dtype=tf.float32)"
   ]
  },
  {
   "cell_type": "code",
   "execution_count": 77,
   "id": "163b9512",
   "metadata": {},
   "outputs": [
    {
     "data": {
      "text/plain": [
       "<tf.Tensor: shape=(1, 1, 32), dtype=float32, numpy=\n",
       "array([[[0., 1., 0., 1., 0., 1., 0., 1., 0., 1., 0., 1., 0., 1., 0., 1.,\n",
       "         0., 1., 0., 1., 0., 1., 0., 1., 0., 1., 0., 1., 0., 1., 0., 1.]]],\n",
       "      dtype=float32)>"
      ]
     },
     "execution_count": 77,
     "metadata": {},
     "output_type": "execute_result"
    }
   ],
   "source": [
    "positional_encoding(1, 32)"
   ]
  },
  {
   "cell_type": "markdown",
   "id": "c258082e",
   "metadata": {},
   "source": [
    "### Encoder"
   ]
  },
  {
   "cell_type": "code",
   "execution_count": 78,
   "id": "0e4b9d93-4b89-4f58-9b9e-5d2dbaa5164c",
   "metadata": {},
   "outputs": [],
   "source": [
    "class Encoder(tf.keras.layers.Layer):\n",
    "    def __init__(self, num_layers, d_model, num_heads, dff, input_vocab_size,\n",
    "                 maximum_position_encoding, rate=0.1):\n",
    "        super(Encoder, self).__init__()\n",
    "        self.d_model = d_model\n",
    "        self.num_layers = num_layers #how many encoder layers\n",
    "        self.embedding = tf.keras.layers.Embedding(input_vocab_size, d_model)\n",
    "        self.pos_encoding = positional_encoding(maximum_position_encoding, d_model)\n",
    "        self.enc_layers = [EncoderLayer(d_model, num_heads, dff, rate) for _ in range(num_layers)]\n",
    "        self.dropout = tf.keras.layers.Dropout(rate)\n",
    "        self.attention_weights = {}\n",
    "        self.matmul_qks = {}\n",
    "        \n",
    "    def call(self, x, training, mask=None):\n",
    "        #attention_weights = {}\n",
    "        #encoding and position encoding\n",
    "        seq_len = tf.shape(x)[1]\n",
    "        x = self.embedding(x) # (batch_size, input_seq_len, d_model)\n",
    "        x *= tf.math.sqrt(tf.cast(self.d_model, tf.float32))\n",
    "        \n",
    "        \n",
    "        x += self.pos_encoding[:, :seq_len, :]\n",
    "\n",
    "        x = self.dropout(x, training=training)\n",
    "\n",
    "        for i in range(self.num_layers):\n",
    "            x, block, matmul_qk = self.enc_layers[i](x, training, mask)\n",
    "            self.attention_weights[f'attentions_{i+1}'] = block\n",
    "            self.matmul_qks[f'matmul_qk_{i+1}'] = matmul_qk\n",
    "            \n",
    "        #attention_weights[f'decoder_layer{i+1}_block'] = block\n",
    "        return x, block # (batch_size, input_seq_len, d_model)\n",
    "    \n",
    "    def get_attention(self):\n",
    "        return self.attention_weights\n",
    "    def get_matmul_qks(self):\n",
    "        return self.matmul_qks"
   ]
  },
  {
   "cell_type": "markdown",
   "id": "4284c0a5",
   "metadata": {},
   "source": [
    "### Test of Encoder"
   ]
  },
  {
   "cell_type": "code",
   "execution_count": 79,
   "id": "405a68b4-b50a-443a-8a4d-0092b80bfe07",
   "metadata": {},
   "outputs": [
    {
     "data": {
      "text/plain": [
       "TensorShape([3, 24, 5])"
      ]
     },
     "execution_count": 79,
     "metadata": {},
     "output_type": "execute_result"
    }
   ],
   "source": [
    "sample_encoder = Encoder(num_layers=2, d_model=5, num_heads=1,\n",
    "                         dff=dff, input_vocab_size=10,\n",
    "                         maximum_position_encoding=24)\n",
    "                         \n",
    "temp_input = tf.random.uniform((3, 24), dtype=tf.int64, minval=0, maxval=200)\n",
    "\n",
    "sample_encoder_output = sample_encoder(temp_input, training=False, mask=None)\n",
    "\n",
    "sample_encoder_output[0].shape"
   ]
  },
  {
   "cell_type": "markdown",
   "id": "f4ced629",
   "metadata": {},
   "source": [
    "## Create model"
   ]
  },
  {
   "cell_type": "code",
   "execution_count": 80,
   "id": "7a21f309-13a3-42f8-9ffb-870055dd21d1",
   "metadata": {},
   "outputs": [],
   "source": [
    "def create_model(seq_length, num_layers, d_model, num_heads, dff, input_vocab_size, maximum_position_encoding, rate=0.1):\n",
    "    input = tf.keras.Input(shape=(seq_length,))\n",
    "    x , aws= Encoder(num_layers, d_model, num_heads, dff,\n",
    "                input_vocab_size, maximum_position_encoding, rate=0.1)(input)\n",
    "    x = tf.keras.layers.Reshape((seq_length*d_model,))(x)\n",
    "    x = tf.keras.layers.Dense(seq_length, activation='relu')(x)\n",
    "    x = tf.keras.layers.Dense(1)(x)\n",
    "    output = tf.squeeze(x)\n",
    "    \n",
    "    return tf.keras.Model(inputs=input, outputs=output)\n",
    "    "
   ]
  },
  {
   "cell_type": "code",
   "execution_count": 81,
   "id": "4ca8b704-a4a7-49be-b52a-bad9eed97073",
   "metadata": {},
   "outputs": [
    {
     "ename": "AssertionError",
     "evalue": "",
     "output_type": "error",
     "traceback": [
      "\u001b[0;31m---------------------------------------------------------------------------\u001b[0m",
      "\u001b[0;31mAssertionError\u001b[0m                            Traceback (most recent call last)",
      "\u001b[1;32m/Users/fatmimi/Documents/Coding/git-repo/Self-Attention_RNA/Transformer-RNA-RNasp.ipynb Cell 29\u001b[0m in \u001b[0;36m<cell line: 1>\u001b[0;34m()\u001b[0m\n\u001b[0;32m----> <a href='vscode-notebook-cell:/Users/fatmimi/Documents/Coding/git-repo/Self-Attention_RNA/Transformer-RNA-RNasp.ipynb#X46sZmlsZQ%3D%3D?line=0'>1</a>\u001b[0m model \u001b[39m=\u001b[39m create_model(seq_length\u001b[39m=\u001b[39;49mseq_length, num_layers\u001b[39m=\u001b[39;49m num_layers, d_model\u001b[39m=\u001b[39;49md_model, num_heads\u001b[39m=\u001b[39;49mnum_heads,\n\u001b[1;32m      <a href='vscode-notebook-cell:/Users/fatmimi/Documents/Coding/git-repo/Self-Attention_RNA/Transformer-RNA-RNasp.ipynb#X46sZmlsZQ%3D%3D?line=1'>2</a>\u001b[0m                          dff\u001b[39m=\u001b[39;49mdff, input_vocab_size\u001b[39m=\u001b[39;49m\u001b[39m10\u001b[39;49m,\n\u001b[1;32m      <a href='vscode-notebook-cell:/Users/fatmimi/Documents/Coding/git-repo/Self-Attention_RNA/Transformer-RNA-RNasp.ipynb#X46sZmlsZQ%3D%3D?line=2'>3</a>\u001b[0m                          maximum_position_encoding\u001b[39m=\u001b[39;49m\u001b[39m32\u001b[39;49m)\n\u001b[1;32m      <a href='vscode-notebook-cell:/Users/fatmimi/Documents/Coding/git-repo/Self-Attention_RNA/Transformer-RNA-RNasp.ipynb#X46sZmlsZQ%3D%3D?line=3'>4</a>\u001b[0m p \u001b[39m=\u001b[39m vectorize_layer(seq_spaced\u001b[39m.\u001b[39miloc[\u001b[39m17\u001b[39m])\n\u001b[1;32m      <a href='vscode-notebook-cell:/Users/fatmimi/Documents/Coding/git-repo/Self-Attention_RNA/Transformer-RNA-RNasp.ipynb#X46sZmlsZQ%3D%3D?line=4'>5</a>\u001b[0m model(p)\n",
      "\u001b[1;32m/Users/fatmimi/Documents/Coding/git-repo/Self-Attention_RNA/Transformer-RNA-RNasp.ipynb Cell 29\u001b[0m in \u001b[0;36mcreate_model\u001b[0;34m(seq_length, num_layers, d_model, num_heads, dff, input_vocab_size, maximum_position_encoding, rate)\u001b[0m\n\u001b[1;32m      <a href='vscode-notebook-cell:/Users/fatmimi/Documents/Coding/git-repo/Self-Attention_RNA/Transformer-RNA-RNasp.ipynb#X46sZmlsZQ%3D%3D?line=0'>1</a>\u001b[0m \u001b[39mdef\u001b[39;00m \u001b[39mcreate_model\u001b[39m(seq_length, num_layers, d_model, num_heads, dff, input_vocab_size, maximum_position_encoding, rate\u001b[39m=\u001b[39m\u001b[39m0.1\u001b[39m):\n\u001b[1;32m      <a href='vscode-notebook-cell:/Users/fatmimi/Documents/Coding/git-repo/Self-Attention_RNA/Transformer-RNA-RNasp.ipynb#X46sZmlsZQ%3D%3D?line=1'>2</a>\u001b[0m     \u001b[39minput\u001b[39m \u001b[39m=\u001b[39m tf\u001b[39m.\u001b[39mkeras\u001b[39m.\u001b[39mInput(shape\u001b[39m=\u001b[39m(seq_length,))\n\u001b[0;32m----> <a href='vscode-notebook-cell:/Users/fatmimi/Documents/Coding/git-repo/Self-Attention_RNA/Transformer-RNA-RNasp.ipynb#X46sZmlsZQ%3D%3D?line=2'>3</a>\u001b[0m     x , aws\u001b[39m=\u001b[39m Encoder(num_layers, d_model, num_heads, dff,\n\u001b[1;32m      <a href='vscode-notebook-cell:/Users/fatmimi/Documents/Coding/git-repo/Self-Attention_RNA/Transformer-RNA-RNasp.ipynb#X46sZmlsZQ%3D%3D?line=3'>4</a>\u001b[0m                 input_vocab_size, maximum_position_encoding, rate\u001b[39m=\u001b[39;49m\u001b[39m0.1\u001b[39;49m)(\u001b[39minput\u001b[39m)\n\u001b[1;32m      <a href='vscode-notebook-cell:/Users/fatmimi/Documents/Coding/git-repo/Self-Attention_RNA/Transformer-RNA-RNasp.ipynb#X46sZmlsZQ%3D%3D?line=4'>5</a>\u001b[0m     x \u001b[39m=\u001b[39m tf\u001b[39m.\u001b[39mkeras\u001b[39m.\u001b[39mlayers\u001b[39m.\u001b[39mReshape((seq_length\u001b[39m*\u001b[39md_model,))(x)\n\u001b[1;32m      <a href='vscode-notebook-cell:/Users/fatmimi/Documents/Coding/git-repo/Self-Attention_RNA/Transformer-RNA-RNasp.ipynb#X46sZmlsZQ%3D%3D?line=5'>6</a>\u001b[0m     x \u001b[39m=\u001b[39m tf\u001b[39m.\u001b[39mkeras\u001b[39m.\u001b[39mlayers\u001b[39m.\u001b[39mDense(seq_length, activation\u001b[39m=\u001b[39m\u001b[39m'\u001b[39m\u001b[39mrelu\u001b[39m\u001b[39m'\u001b[39m)(x)\n",
      "\u001b[1;32m/Users/fatmimi/Documents/Coding/git-repo/Self-Attention_RNA/Transformer-RNA-RNasp.ipynb Cell 29\u001b[0m in \u001b[0;36mEncoder.__init__\u001b[0;34m(self, num_layers, d_model, num_heads, dff, input_vocab_size, maximum_position_encoding, rate)\u001b[0m\n\u001b[1;32m      <a href='vscode-notebook-cell:/Users/fatmimi/Documents/Coding/git-repo/Self-Attention_RNA/Transformer-RNA-RNasp.ipynb#X46sZmlsZQ%3D%3D?line=6'>7</a>\u001b[0m \u001b[39mself\u001b[39m\u001b[39m.\u001b[39membedding \u001b[39m=\u001b[39m tf\u001b[39m.\u001b[39mkeras\u001b[39m.\u001b[39mlayers\u001b[39m.\u001b[39mEmbedding(input_vocab_size, d_model)\n\u001b[1;32m      <a href='vscode-notebook-cell:/Users/fatmimi/Documents/Coding/git-repo/Self-Attention_RNA/Transformer-RNA-RNasp.ipynb#X46sZmlsZQ%3D%3D?line=7'>8</a>\u001b[0m \u001b[39mself\u001b[39m\u001b[39m.\u001b[39mpos_encoding \u001b[39m=\u001b[39m positional_encoding(maximum_position_encoding, d_model)\n\u001b[0;32m----> <a href='vscode-notebook-cell:/Users/fatmimi/Documents/Coding/git-repo/Self-Attention_RNA/Transformer-RNA-RNasp.ipynb#X46sZmlsZQ%3D%3D?line=8'>9</a>\u001b[0m \u001b[39mself\u001b[39m\u001b[39m.\u001b[39menc_layers \u001b[39m=\u001b[39m [EncoderLayer(d_model, num_heads, dff, rate) \u001b[39mfor\u001b[39;00m _ \u001b[39min\u001b[39;00m \u001b[39mrange\u001b[39m(num_layers)]\n\u001b[1;32m     <a href='vscode-notebook-cell:/Users/fatmimi/Documents/Coding/git-repo/Self-Attention_RNA/Transformer-RNA-RNasp.ipynb#X46sZmlsZQ%3D%3D?line=9'>10</a>\u001b[0m \u001b[39mself\u001b[39m\u001b[39m.\u001b[39mdropout \u001b[39m=\u001b[39m tf\u001b[39m.\u001b[39mkeras\u001b[39m.\u001b[39mlayers\u001b[39m.\u001b[39mDropout(rate)\n\u001b[1;32m     <a href='vscode-notebook-cell:/Users/fatmimi/Documents/Coding/git-repo/Self-Attention_RNA/Transformer-RNA-RNasp.ipynb#X46sZmlsZQ%3D%3D?line=10'>11</a>\u001b[0m \u001b[39mself\u001b[39m\u001b[39m.\u001b[39mattention_weights \u001b[39m=\u001b[39m {}\n",
      "\u001b[1;32m/Users/fatmimi/Documents/Coding/git-repo/Self-Attention_RNA/Transformer-RNA-RNasp.ipynb Cell 29\u001b[0m in \u001b[0;36m<listcomp>\u001b[0;34m(.0)\u001b[0m\n\u001b[1;32m      <a href='vscode-notebook-cell:/Users/fatmimi/Documents/Coding/git-repo/Self-Attention_RNA/Transformer-RNA-RNasp.ipynb#X46sZmlsZQ%3D%3D?line=6'>7</a>\u001b[0m \u001b[39mself\u001b[39m\u001b[39m.\u001b[39membedding \u001b[39m=\u001b[39m tf\u001b[39m.\u001b[39mkeras\u001b[39m.\u001b[39mlayers\u001b[39m.\u001b[39mEmbedding(input_vocab_size, d_model)\n\u001b[1;32m      <a href='vscode-notebook-cell:/Users/fatmimi/Documents/Coding/git-repo/Self-Attention_RNA/Transformer-RNA-RNasp.ipynb#X46sZmlsZQ%3D%3D?line=7'>8</a>\u001b[0m \u001b[39mself\u001b[39m\u001b[39m.\u001b[39mpos_encoding \u001b[39m=\u001b[39m positional_encoding(maximum_position_encoding, d_model)\n\u001b[0;32m----> <a href='vscode-notebook-cell:/Users/fatmimi/Documents/Coding/git-repo/Self-Attention_RNA/Transformer-RNA-RNasp.ipynb#X46sZmlsZQ%3D%3D?line=8'>9</a>\u001b[0m \u001b[39mself\u001b[39m\u001b[39m.\u001b[39menc_layers \u001b[39m=\u001b[39m [EncoderLayer(d_model, num_heads, dff, rate) \u001b[39mfor\u001b[39;00m _ \u001b[39min\u001b[39;00m \u001b[39mrange\u001b[39m(num_layers)]\n\u001b[1;32m     <a href='vscode-notebook-cell:/Users/fatmimi/Documents/Coding/git-repo/Self-Attention_RNA/Transformer-RNA-RNasp.ipynb#X46sZmlsZQ%3D%3D?line=9'>10</a>\u001b[0m \u001b[39mself\u001b[39m\u001b[39m.\u001b[39mdropout \u001b[39m=\u001b[39m tf\u001b[39m.\u001b[39mkeras\u001b[39m.\u001b[39mlayers\u001b[39m.\u001b[39mDropout(rate)\n\u001b[1;32m     <a href='vscode-notebook-cell:/Users/fatmimi/Documents/Coding/git-repo/Self-Attention_RNA/Transformer-RNA-RNasp.ipynb#X46sZmlsZQ%3D%3D?line=10'>11</a>\u001b[0m \u001b[39mself\u001b[39m\u001b[39m.\u001b[39mattention_weights \u001b[39m=\u001b[39m {}\n",
      "\u001b[1;32m/Users/fatmimi/Documents/Coding/git-repo/Self-Attention_RNA/Transformer-RNA-RNasp.ipynb Cell 29\u001b[0m in \u001b[0;36mEncoderLayer.__init__\u001b[0;34m(self, d_model, num_heads, dff, rate)\u001b[0m\n\u001b[1;32m      <a href='vscode-notebook-cell:/Users/fatmimi/Documents/Coding/git-repo/Self-Attention_RNA/Transformer-RNA-RNasp.ipynb#X46sZmlsZQ%3D%3D?line=8'>9</a>\u001b[0m \u001b[39msuper\u001b[39m(EncoderLayer, \u001b[39mself\u001b[39m)\u001b[39m.\u001b[39m\u001b[39m__init__\u001b[39m()\n\u001b[1;32m     <a href='vscode-notebook-cell:/Users/fatmimi/Documents/Coding/git-repo/Self-Attention_RNA/Transformer-RNA-RNasp.ipynb#X46sZmlsZQ%3D%3D?line=10'>11</a>\u001b[0m \u001b[39m#define layers\u001b[39;00m\n\u001b[0;32m---> <a href='vscode-notebook-cell:/Users/fatmimi/Documents/Coding/git-repo/Self-Attention_RNA/Transformer-RNA-RNasp.ipynb#X46sZmlsZQ%3D%3D?line=11'>12</a>\u001b[0m \u001b[39mself\u001b[39m\u001b[39m.\u001b[39mmha \u001b[39m=\u001b[39m MultiHeadAttention(d_model, num_heads)\n\u001b[1;32m     <a href='vscode-notebook-cell:/Users/fatmimi/Documents/Coding/git-repo/Self-Attention_RNA/Transformer-RNA-RNasp.ipynb#X46sZmlsZQ%3D%3D?line=12'>13</a>\u001b[0m \u001b[39mself\u001b[39m\u001b[39m.\u001b[39mffn \u001b[39m=\u001b[39m point_wise_feed_forward_network(d_model, dff)\n\u001b[1;32m     <a href='vscode-notebook-cell:/Users/fatmimi/Documents/Coding/git-repo/Self-Attention_RNA/Transformer-RNA-RNasp.ipynb#X46sZmlsZQ%3D%3D?line=14'>15</a>\u001b[0m \u001b[39mself\u001b[39m\u001b[39m.\u001b[39mlayernorm1 \u001b[39m=\u001b[39m tf\u001b[39m.\u001b[39mkeras\u001b[39m.\u001b[39mlayers\u001b[39m.\u001b[39mLayerNormalization(epsilon\u001b[39m=\u001b[39m\u001b[39m1e-6\u001b[39m)\n",
      "\u001b[1;32m/Users/fatmimi/Documents/Coding/git-repo/Self-Attention_RNA/Transformer-RNA-RNasp.ipynb Cell 29\u001b[0m in \u001b[0;36mMultiHeadAttention.__init__\u001b[0;34m(self, d_model, num_heads)\u001b[0m\n\u001b[1;32m     <a href='vscode-notebook-cell:/Users/fatmimi/Documents/Coding/git-repo/Self-Attention_RNA/Transformer-RNA-RNasp.ipynb#X46sZmlsZQ%3D%3D?line=24'>25</a>\u001b[0m \u001b[39mself\u001b[39m\u001b[39m.\u001b[39md_model \u001b[39m=\u001b[39m d_model\n\u001b[1;32m     <a href='vscode-notebook-cell:/Users/fatmimi/Documents/Coding/git-repo/Self-Attention_RNA/Transformer-RNA-RNasp.ipynb#X46sZmlsZQ%3D%3D?line=26'>27</a>\u001b[0m \u001b[39m#Because for multi-head, head number * depth = multi-head\u001b[39;00m\n\u001b[0;32m---> <a href='vscode-notebook-cell:/Users/fatmimi/Documents/Coding/git-repo/Self-Attention_RNA/Transformer-RNA-RNasp.ipynb#X46sZmlsZQ%3D%3D?line=27'>28</a>\u001b[0m \u001b[39massert\u001b[39;00m d_model \u001b[39m%\u001b[39m \u001b[39mself\u001b[39m\u001b[39m.\u001b[39mnum_heads \u001b[39m==\u001b[39m \u001b[39m0\u001b[39m\n\u001b[1;32m     <a href='vscode-notebook-cell:/Users/fatmimi/Documents/Coding/git-repo/Self-Attention_RNA/Transformer-RNA-RNasp.ipynb#X46sZmlsZQ%3D%3D?line=28'>29</a>\u001b[0m \u001b[39mself\u001b[39m\u001b[39m.\u001b[39mdepth \u001b[39m=\u001b[39m d_model \u001b[39m/\u001b[39m\u001b[39m/\u001b[39m \u001b[39mself\u001b[39m\u001b[39m.\u001b[39mnum_heads\n\u001b[1;32m     <a href='vscode-notebook-cell:/Users/fatmimi/Documents/Coding/git-repo/Self-Attention_RNA/Transformer-RNA-RNasp.ipynb#X46sZmlsZQ%3D%3D?line=30'>31</a>\u001b[0m \u001b[39m#Set layers for q, k, v\u001b[39;00m\n",
      "\u001b[0;31mAssertionError\u001b[0m: "
     ]
    }
   ],
   "source": [
    "model = create_model(seq_length=seq_length, num_layers= num_layers, d_model=d_model, num_heads=num_heads,\n",
    "                         dff=dff, input_vocab_size=10,\n",
    "                         maximum_position_encoding=32)\n",
    "p = vectorize_layer(seq_spaced.iloc[17])\n",
    "model(p)"
   ]
  },
  {
   "cell_type": "code",
   "execution_count": null,
   "id": "7b453f05",
   "metadata": {},
   "outputs": [
    {
     "name": "stdout",
     "output_type": "stream",
     "text": [
      "Model: \"model_1\"\n",
      "_________________________________________________________________\n",
      " Layer (type)                Output Shape              Param #   \n",
      "=================================================================\n",
      " input_2 (InputLayer)        [(None, 32)]              0         \n",
      "                                                                 \n",
      " encoder_3 (Encoder)         ((None, 32, 21),          4915      \n",
      "                              (None, 1, None, None))             \n",
      "                                                                 \n",
      " reshape_1 (Reshape)         (None, 672)               0         \n",
      "                                                                 \n",
      " dense_38 (Dense)            (None, 32)                21536     \n",
      "                                                                 \n",
      " dense_39 (Dense)            (None, 1)                 33        \n",
      "                                                                 \n",
      " tf.compat.v1.squeeze_1 (TFO  None                     0         \n",
      " pLambda)                                                        \n",
      "                                                                 \n",
      "=================================================================\n",
      "Total params: 26,484\n",
      "Trainable params: 26,484\n",
      "Non-trainable params: 0\n",
      "_________________________________________________________________\n"
     ]
    }
   ],
   "source": [
    "model.summary()"
   ]
  },
  {
   "cell_type": "markdown",
   "id": "5367f182",
   "metadata": {},
   "source": [
    "## Test our model to see if it can work and get the attention matrix"
   ]
  },
  {
   "cell_type": "code",
   "execution_count": null,
   "id": "3ee88c5d-55dc-4a82-94ab-c8c12a161840",
   "metadata": {},
   "outputs": [
    {
     "data": {
      "text/plain": [
       "<AxesSubplot:>"
      ]
     },
     "execution_count": 57,
     "metadata": {},
     "output_type": "execute_result"
    },
    {
     "data": {
      "image/png": "[encoded data removed]",
      "text/plain": [
       "<Figure size 2000x500 with 2 Axes>"
      ]
     },
     "metadata": {},
     "output_type": "display_data"
    }
   ],
   "source": [
    "for i in real_train_set.take(1):\n",
    "    q = model(i[0])\n",
    "att = model.layers[1].get_attention()['attentions_1']\n",
    "qk = model.layers[1].get_matmul_qks()['matmul_qk_1']\n",
    "#forheat = tf.squeeze(att).numpy()\n",
    "sns.heatmap(qk[(0,0)])"
   ]
  },
  {
   "cell_type": "markdown",
   "id": "bc7cedcf",
   "metadata": {},
   "source": [
    "## Custom Schedule/ Accuracy/ Loss functions"
   ]
  },
  {
   "cell_type": "code",
   "execution_count": null,
   "id": "29255630",
   "metadata": {},
   "outputs": [],
   "source": [
    "class CustomSchedule(tf.keras.optimizers.schedules.LearningRateSchedule):\n",
    "    def __init__(self, d_model, warmup_steps=4000):\n",
    "        super(CustomSchedule, self).__init__()\n",
    "        self.d_model = d_model\n",
    "        self.d_model = tf.cast(self.d_model, tf.float32)\n",
    "        self.warmup_steps = warmup_steps\n",
    "    \n",
    "    def __call__(self, step):\n",
    "        arg1 = tf.math.rsqrt(step)\n",
    "        arg2 = step * (self.warmup_steps ** -1.5)\n",
    "        return tf.math.rsqrt(self.d_model) * tf.math.minimum(arg1, arg2)\n",
    "\n",
    "learning_rate = CustomSchedule(d_model)\n",
    "\n",
    "optimizer = tf.keras.optimizers.Adam(learning_rate, beta_1=0.9, beta_2=0.98,\n",
    "                                     epsilon=1e-9)\n",
    "#optimizer = tf.keras.optimizers.Adam()\n",
    "\n",
    "#loss_object = tf.keras.losses.SparseCategoricalCrossentropy(from_logits=False, reduction='none')\n",
    "loss_object = loss=tf.keras.losses.MeanAbsoluteError()\n",
    "\n",
    "def loss_function(real, pred):\n",
    "    #mask = tf.math.logical_not(tf.math.equal(real, 0))\n",
    "    loss_ = loss_object(real, pred)\n",
    "    #mask = tf.cast(mask, dtype=loss_.dtype)\n",
    "    #loss_ *= mask\n",
    "    #return tf.reduce_sum(loss_)/tf.reduce_sum(mask)\n",
    "    return tf.reduce_sum(loss_)\n",
    "\n",
    "\n",
    "def accuracy_function(real, pred):\n",
    "    accuracies = loss_object(real, pred)\n",
    "    #accuracies = tf.equal(real, tf.argmax(pred, axis=2))\n",
    "    #accuracies = tf.keras.losses.MeanAbsoluteError(real, pred)\n",
    "    #mask = tf.math.logical_not(tf.math.equal(real, 0))\n",
    "    #accuracies = tf.math.logical_and(mask, accuracies)\n",
    "    #accuracies = tf.cast(accuracies, dtype=tf.float32)\n",
    "    #mask = tf.cast(mask, dtype=tf.float32)\n",
    "    #return tf.reduce_sum(accuracies)/tf.reduce_sum(mask)\n",
    "    return tf.reduce_sum(accuracies)\n",
    "\n",
    "train_metric = tfa.metrics.r_square.RSquare()\n",
    "test_metric = tfa.metrics.r_square.RSquare()\n",
    "\n",
    "train_loss = tf.keras.metrics.Mean(name='train_loss')\n",
    "test_loss = tf.keras.metrics.Mean(name='test_loss')\n",
    "train_accuracy = tf.keras.metrics.Mean(name='train_accuracy')\n",
    "test_accuracy = tf.keras.metrics.Mean(name='test_accuracy')"
   ]
  },
  {
   "cell_type": "code",
   "execution_count": null,
   "id": "d9f60aa4",
   "metadata": {},
   "outputs": [
    {
     "name": "stdout",
     "output_type": "stream",
     "text": [
      "Latest checkpoint restored!!\n"
     ]
    }
   ],
   "source": [
    "checkpoint_path = \"./checkpoints_RNaseP_pos/train\"\n",
    "\n",
    "ckpt = tf.train.Checkpoint(transformer=model,\n",
    "                           optimizer=optimizer)\n",
    "\n",
    "ckpt_manager = tf.train.CheckpointManager(ckpt, checkpoint_path, max_to_keep=5)\n",
    "\n",
    "# if a checkpoint exists, restore the latest checkpoint.\n",
    "if ckpt_manager.latest_checkpoint:\n",
    "  ckpt.restore(ckpt_manager.latest_checkpoint)\n",
    "  print('Latest checkpoint restored!!')"
   ]
  },
  {
   "cell_type": "markdown",
   "id": "80d4085f",
   "metadata": {},
   "source": [
    "## Customized Train/Test steps "
   ]
  },
  {
   "cell_type": "code",
   "execution_count": null,
   "id": "62b97135-299c-4559-8941-40c2c000a158",
   "metadata": {},
   "outputs": [],
   "source": [
    "# The @tf.function trace-compiles train_step into a TF graph for faster\n",
    "# execution. The function specializes to the precise shape of the argument\n",
    "# tensors. To avoid re-tracing due to the variable sequence lengths or variable\n",
    "# batch sizes (the last batch is smaller), use input_signature to specify\n",
    "# more generic shapes.\n",
    "\n",
    "#train_step_signature = [\n",
    "#    tf.TensorSpec(shape=(None, None), dtype=tf.int64),\n",
    "#    tf.TensorSpec(shape=(None), dtype=tf.int64),\n",
    "#]\n",
    "\n",
    "\n",
    "#@tf.function(input_signature=train_step_signature)\n",
    "def train_step(inp, tar):\n",
    "    #inp = inp\n",
    "    target = tar\n",
    "\n",
    "    with tf.GradientTape() as tape:\n",
    "        predictions = model(inp, training = True)\n",
    "        loss = loss_function(target, predictions)\n",
    "\n",
    "    gradients = tape.gradient(loss, model.trainable_variables)\n",
    "    optimizer.apply_gradients(zip(gradients, model.trainable_variables))\n",
    "    \n",
    "    train_loss(loss)\n",
    "\n",
    "    train_metric.update_state(target, predictions)\n",
    "    #result = metric.result()\n",
    "    #train_accuracy(result)\n",
    "    #train_accuracy(accuracy_function(target, predictions))\n",
    "    \n",
    "def test_step(model, inp, tar):\n",
    "    #inp = inp\n",
    "    target = tar\n",
    "    predictions = model(inp)\n",
    "    testloss = loss_function(tar, predictions)\n",
    "    test_loss(testloss)\n",
    "    test_metric.update_state(target, predictions)\n",
    "\n",
    "    #result = metric.result()\n",
    "    #test_accuracy(result)\n",
    "\n",
    "    #train_accuracy(accuracy_function(target, predictions))\n",
    "\n",
    "current_time = datetime.datetime.now().strftime(\"%Y%m%d-%H%M%S\")\n",
    "train_log_dir = 'logs/gradient_tape/' + current_time + '/train'\n",
    "test_log_dir = 'logs/gradient_tape/' + current_time + '/test'\n",
    "train_summary_writer = tf.summary.create_file_writer(train_log_dir)\n",
    "test_summary_writer = tf.summary.create_file_writer(test_log_dir)"
   ]
  },
  {
   "cell_type": "markdown",
   "id": "bc5c7f33",
   "metadata": {},
   "source": [
    "## Train loop"
   ]
  },
  {
   "cell_type": "code",
   "execution_count": 82,
   "id": "c180ff22-68d6-4461-91f9-6a784a977175",
   "metadata": {},
   "outputs": [
    {
     "name": "stdout",
     "output_type": "stream",
     "text": [
      "Epoch 1 Batch 0 Loss 0.1187 Accuracy 0.7087\n",
      "Epoch 1, Loss: 0.17763087153434753, Test Loss: 0.17669491469860077, Test R^2: 0.7358188033103943\n",
      "Epoch 2 Batch 0 Loss 0.2659 Accuracy 0.7175\n",
      "Epoch 2, Loss: 0.1764848679304123, Test Loss: 0.17796748876571655, Test R^2: 0.7309132814407349\n",
      "Epoch 3 Batch 0 Loss 0.1897 Accuracy 0.7232\n",
      "Epoch 3, Loss: 0.17224694788455963, Test Loss: 0.17583078145980835, Test R^2: 0.7361741662025452\n",
      "Epoch 4 Batch 0 Loss 0.1089 Accuracy 0.7286\n",
      "Epoch 4, Loss: 0.1731206178665161, Test Loss: 0.17851492762565613, Test R^2: 0.7290647029876709\n",
      "Epoch 5 Batch 0 Loss 0.2500 Accuracy 0.7317\n",
      "Epoch 5, Loss: 0.17196209728717804, Test Loss: 0.18063566088676453, Test R^2: 0.7222656011581421\n",
      "Saving checkpoint for epoch 5 at ./checkpoints_RNaseP_pos/train/ckpt-5\n",
      "Epoch 5 Loss 0.1720 Accuracy 0.7341\n",
      "Time taken for 1 epoch: 41.62 secs\n",
      "\n",
      "Epoch 6 Batch 0 Loss 0.1787 Accuracy 0.7341\n",
      "Epoch 6, Loss: 0.1732293963432312, Test Loss: 0.17959970235824585, Test R^2: 0.726094126701355\n",
      "Epoch 7 Batch 0 Loss 0.2020 Accuracy 0.7354\n",
      "Epoch 7, Loss: 0.16926199197769165, Test Loss: 0.17789067327976227, Test R^2: 0.7311763763427734\n",
      "Epoch 8 Batch 0 Loss 0.1888 Accuracy 0.7380\n",
      "Epoch 8, Loss: 0.17103849351406097, Test Loss: 0.17659446597099304, Test R^2: 0.7351675033569336\n",
      "Epoch 9 Batch 0 Loss 0.1704 Accuracy 0.7396\n",
      "Epoch 9, Loss: 0.1669434756040573, Test Loss: 0.17658309638500214, Test R^2: 0.7344781756401062\n",
      "Epoch 10 Batch 0 Loss 0.2719 Accuracy 0.7418\n",
      "Epoch 10, Loss: 0.16392077505588531, Test Loss: 0.17533740401268005, Test R^2: 0.7376762628555298\n",
      "Saving checkpoint for epoch 10 at ./checkpoints_RNaseP_pos/train/ckpt-6\n",
      "Epoch 10 Loss 0.1639 Accuracy 0.7445\n",
      "Time taken for 1 epoch: 39.50 secs\n",
      "\n",
      "Epoch 11 Batch 0 Loss 0.2398 Accuracy 0.7444\n",
      "Epoch 11, Loss: 0.1653636246919632, Test Loss: 0.1764010190963745, Test R^2: 0.7341110706329346\n",
      "Epoch 12 Batch 0 Loss 0.1500 Accuracy 0.7464\n",
      "Epoch 12, Loss: 0.1674642711877823, Test Loss: 0.17579221725463867, Test R^2: 0.7355626821517944\n",
      "Epoch 13 Batch 0 Loss 0.1597 Accuracy 0.7476\n",
      "Epoch 13, Loss: 0.16631434857845306, Test Loss: 0.17452996969223022, Test R^2: 0.7383924722671509\n",
      "Epoch 14 Batch 0 Loss 0.1555 Accuracy 0.7488\n",
      "Epoch 14, Loss: 0.1644752323627472, Test Loss: 0.1740991771221161, Test R^2: 0.7392557859420776\n",
      "Epoch 15 Batch 0 Loss 0.1388 Accuracy 0.7501\n",
      "Epoch 15, Loss: 0.16527089476585388, Test Loss: 0.17328102886676788, Test R^2: 0.7412357330322266\n",
      "Saving checkpoint for epoch 15 at ./checkpoints_RNaseP_pos/train/ckpt-7\n",
      "Epoch 15 Loss 0.1653 Accuracy 0.7511\n",
      "Time taken for 1 epoch: 41.82 secs\n",
      "\n",
      "Epoch 16 Batch 0 Loss 0.1477 Accuracy 0.7511\n",
      "Epoch 16, Loss: 0.16330114006996155, Test Loss: 0.17274118959903717, Test R^2: 0.7423528432846069\n",
      "Epoch 17 Batch 0 Loss 0.1560 Accuracy 0.7523\n",
      "Epoch 17, Loss: 0.15945209562778473, Test Loss: 0.17198902368545532, Test R^2: 0.744308590888977\n",
      "Epoch 18 Batch 0 Loss 0.1861 Accuracy 0.7539\n",
      "Epoch 18, Loss: 0.1596652865409851, Test Loss: 0.17164507508277893, Test R^2: 0.7449376583099365\n",
      "Epoch 19 Batch 0 Loss 0.2293 Accuracy 0.7553\n",
      "Epoch 19, Loss: 0.158744677901268, Test Loss: 0.17130663990974426, Test R^2: 0.7456597685813904\n",
      "Epoch 20 Batch 0 Loss 0.1383 Accuracy 0.7565\n",
      "Epoch 20, Loss: 0.1582619547843933, Test Loss: 0.170702263712883, Test R^2: 0.7470196485519409\n",
      "Saving checkpoint for epoch 20 at ./checkpoints_RNaseP_pos/train/ckpt-8\n",
      "Epoch 20 Loss 0.1583 Accuracy 0.7578\n",
      "Time taken for 1 epoch: 41.49 secs\n",
      "\n",
      "Epoch 21 Batch 0 Loss 0.1772 Accuracy 0.7578\n",
      "Epoch 21, Loss: 0.15785439312458038, Test Loss: 0.17082464694976807, Test R^2: 0.7464112043380737\n",
      "Epoch 22 Batch 0 Loss 0.1573 Accuracy 0.7590\n",
      "Epoch 22, Loss: 0.15585541725158691, Test Loss: 0.17026448249816895, Test R^2: 0.7480433583259583\n",
      "Epoch 23 Batch 0 Loss 0.1377 Accuracy 0.7602\n",
      "Epoch 23, Loss: 0.15503203868865967, Test Loss: 0.16961249709129333, Test R^2: 0.74964439868927\n",
      "Epoch 24 Batch 0 Loss 0.1655 Accuracy 0.7615\n",
      "Epoch 24, Loss: 0.1554877609014511, Test Loss: 0.1695859581232071, Test R^2: 0.7494495511054993\n",
      "Epoch 25 Batch 0 Loss 0.1551 Accuracy 0.7626\n",
      "Epoch 25, Loss: 0.15493892133235931, Test Loss: 0.16921302676200867, Test R^2: 0.7502463459968567\n",
      "Saving checkpoint for epoch 25 at ./checkpoints_RNaseP_pos/train/ckpt-9\n",
      "Epoch 25 Loss 0.1549 Accuracy 0.7637\n",
      "Time taken for 1 epoch: 39.77 secs\n",
      "\n",
      "Epoch 26 Batch 0 Loss 0.1618 Accuracy 0.7636\n",
      "Epoch 26, Loss: 0.1541905403137207, Test Loss: 0.16893666982650757, Test R^2: 0.7506687045097351\n",
      "Epoch 27 Batch 0 Loss 0.1778 Accuracy 0.7648\n",
      "Epoch 27, Loss: 0.15394923090934753, Test Loss: 0.16892117261886597, Test R^2: 0.7504913806915283\n",
      "Epoch 28 Batch 0 Loss 0.2011 Accuracy 0.7657\n",
      "Epoch 28, Loss: 0.15522116422653198, Test Loss: 0.16850444674491882, Test R^2: 0.7515052556991577\n",
      "Epoch 29 Batch 0 Loss 0.2106 Accuracy 0.7666\n",
      "Epoch 29, Loss: 0.15608106553554535, Test Loss: 0.16798187792301178, Test R^2: 0.7526943683624268\n",
      "Epoch 30 Batch 0 Loss 0.1683 Accuracy 0.7674\n",
      "Epoch 30, Loss: 0.15134559571743011, Test Loss: 0.1676216572523117, Test R^2: 0.7534627318382263\n",
      "Saving checkpoint for epoch 30 at ./checkpoints_RNaseP_pos/train/ckpt-10\n",
      "Epoch 30 Loss 0.1513 Accuracy 0.7684\n",
      "Time taken for 1 epoch: 39.85 secs\n",
      "\n",
      "Epoch 31 Batch 0 Loss 0.1524 Accuracy 0.7684\n",
      "Epoch 31, Loss: 0.15191669762134552, Test Loss: 0.16713078320026398, Test R^2: 0.7547203302383423\n",
      "Epoch 32 Batch 0 Loss 0.1558 Accuracy 0.7693\n",
      "Epoch 32, Loss: 0.15317527949810028, Test Loss: 0.1674264669418335, Test R^2: 0.7539010047912598\n",
      "Epoch 33 Batch 0 Loss 0.1397 Accuracy 0.7702\n",
      "Epoch 33, Loss: 0.15159010887145996, Test Loss: 0.16687709093093872, Test R^2: 0.7552274465560913\n",
      "Epoch 34 Batch 0 Loss 0.1799 Accuracy 0.7710\n",
      "Epoch 34, Loss: 0.14863453805446625, Test Loss: 0.16639603674411774, Test R^2: 0.7564279437065125\n",
      "Epoch 35 Batch 0 Loss 0.1598 Accuracy 0.7720\n",
      "Epoch 35, Loss: 0.14795422554016113, Test Loss: 0.16586849093437195, Test R^2: 0.7577265501022339\n",
      "Saving checkpoint for epoch 35 at ./checkpoints_RNaseP_pos/train/ckpt-11\n",
      "Epoch 35 Loss 0.1480 Accuracy 0.7729\n",
      "Time taken for 1 epoch: 40.99 secs\n",
      "\n",
      "Epoch 36 Batch 0 Loss 0.1808 Accuracy 0.7729\n",
      "Epoch 36, Loss: 0.15061578154563904, Test Loss: 0.1655176728963852, Test R^2: 0.7584997415542603\n",
      "Epoch 37 Batch 0 Loss 0.1629 Accuracy 0.7737\n",
      "Epoch 37, Loss: 0.1471043825149536, Test Loss: 0.16529273986816406, Test R^2: 0.7590287327766418\n",
      "Epoch 38 Batch 0 Loss 0.1294 Accuracy 0.7746\n",
      "Epoch 38, Loss: 0.1476854681968689, Test Loss: 0.16504120826721191, Test R^2: 0.7595860362052917\n",
      "Epoch 39 Batch 0 Loss 0.1343 Accuracy 0.7754\n",
      "Epoch 39, Loss: 0.14592264592647552, Test Loss: 0.16467203199863434, Test R^2: 0.7604654431343079\n",
      "Epoch 40 Batch 0 Loss 0.1587 Accuracy 0.7763\n",
      "Epoch 40, Loss: 0.1462908238172531, Test Loss: 0.1642804741859436, Test R^2: 0.7612956762313843\n",
      "Saving checkpoint for epoch 40 at ./checkpoints_RNaseP_pos/train/ckpt-12\n",
      "Epoch 40 Loss 0.1463 Accuracy 0.7771\n",
      "Time taken for 1 epoch: 39.94 secs\n",
      "\n",
      "Epoch 41 Batch 0 Loss 0.1607 Accuracy 0.7771\n",
      "Epoch 41, Loss: 0.14516495168209076, Test Loss: 0.1642703413963318, Test R^2: 0.7612193822860718\n",
      "Epoch 42 Batch 0 Loss 0.1379 Accuracy 0.7779\n",
      "Epoch 42, Loss: 0.1478760540485382, Test Loss: 0.16388404369354248, Test R^2: 0.7621527910232544\n",
      "Epoch 43 Batch 0 Loss 0.1477 Accuracy 0.7786\n",
      "Epoch 43, Loss: 0.1473260521888733, Test Loss: 0.16366441547870636, Test R^2: 0.7627108693122864\n",
      "Epoch 44 Batch 0 Loss 0.1227 Accuracy 0.7793\n",
      "Epoch 44, Loss: 0.14415666460990906, Test Loss: 0.16333262622356415, Test R^2: 0.7635236382484436\n",
      "Epoch 45 Batch 0 Loss 0.1264 Accuracy 0.7801\n",
      "Epoch 45, Loss: 0.14475958049297333, Test Loss: 0.16319981217384338, Test R^2: 0.7637616991996765\n",
      "Saving checkpoint for epoch 45 at ./checkpoints_RNaseP_pos/train/ckpt-13\n",
      "Epoch 45 Loss 0.1448 Accuracy 0.7808\n",
      "Time taken for 1 epoch: 39.95 secs\n",
      "\n",
      "Epoch 46 Batch 0 Loss 0.1586 Accuracy 0.7808\n",
      "Epoch 46, Loss: 0.14272630214691162, Test Loss: 0.16294144093990326, Test R^2: 0.7644355297088623\n",
      "Epoch 47 Batch 0 Loss 0.1391 Accuracy 0.7816\n",
      "Epoch 47, Loss: 0.1429063230752945, Test Loss: 0.16270506381988525, Test R^2: 0.7649562954902649\n",
      "Epoch 48 Batch 0 Loss 0.1779 Accuracy 0.7823\n",
      "Epoch 48, Loss: 0.14466223120689392, Test Loss: 0.16236604750156403, Test R^2: 0.7657384276390076\n",
      "Epoch 49 Batch 0 Loss 0.1558 Accuracy 0.7830\n",
      "Epoch 49, Loss: 0.142735555768013, Test Loss: 0.16226400434970856, Test R^2: 0.7659668326377869\n",
      "Epoch 50 Batch 0 Loss 0.1292 Accuracy 0.7837\n",
      "Epoch 50, Loss: 0.143125519156456, Test Loss: 0.1619391292333603, Test R^2: 0.7667616605758667\n",
      "Saving checkpoint for epoch 50 at ./checkpoints_RNaseP_pos/train/ckpt-14\n",
      "Epoch 50 Loss 0.1431 Accuracy 0.7843\n",
      "Time taken for 1 epoch: 39.92 secs\n",
      "\n"
     ]
    }
   ],
   "source": [
    "import time\n",
    "EPOCHS=50\n",
    "for epoch in range(EPOCHS):\n",
    "  start = time.time()\n",
    "\n",
    "  train_loss.reset_states()\n",
    "  train_accuracy.reset_states()\n",
    "\n",
    "\n",
    "  for (batch, (inp, tar)) in enumerate(real_train_set):\n",
    "    train_step(inp, tar)\n",
    "    if batch % 300 == 0:\n",
    "      print(f'Epoch {epoch + 1} Batch {batch} Loss {train_loss.result():.4f} Accuracy {train_metric.result():.4f}')\n",
    "\n",
    "  with train_summary_writer.as_default():\n",
    "    tf.summary.scalar('loss', train_loss.result(), step=epoch)\n",
    "    tf.summary.scalar('accuracy', train_metric.result(), step=epoch)\n",
    "\n",
    "  for (batch, (inp, tar)) in enumerate(test_dataset):\n",
    "    test_step(model, inp, tar)\n",
    "\n",
    "  with test_summary_writer.as_default():\n",
    "    #tf.summary.scalar('loss', test_loss.result(), step=epoch)\n",
    "    tf.summary.scalar('accuracy', test_metric.result(), step=epoch)\n",
    "\n",
    "  template = 'Epoch {}, Loss: {}, Test Loss: {}, Test R^2: {}'\n",
    "  print (template.format(epoch+1,\n",
    "                         train_loss.result(),\n",
    "                         test_loss.result(),\n",
    "                         test_metric.result()\n",
    "                         ))\n",
    "  #Print out information\n",
    " \n",
    "\n",
    "  if (epoch + 1) % 5 == 0:\n",
    "    ckpt_save_path = ckpt_manager.save()\n",
    "    print(f'Saving checkpoint for epoch {epoch+1} at {ckpt_save_path}')\n",
    "    print(f'Epoch {epoch + 1} Loss {train_loss.result():.4f} Accuracy {train_metric.result():.4f}')\n",
    "    print(f'Time taken for 1 epoch: {time.time() - start:.2f} secs\\n')"
   ]
  },
  {
   "cell_type": "markdown",
   "id": "ddbb1e38",
   "metadata": {},
   "source": [
    "## Visualize attentions"
   ]
  },
  {
   "cell_type": "code",
   "execution_count": 108,
   "id": "1537784c",
   "metadata": {},
   "outputs": [],
   "source": [
    "df_input[\"seq_spaced\"] = seq_spaced\n",
    "def visualize_attention(heads, labels, attention):\n",
    "    plt.rcParams[\"figure.figsize\"] = (20,5)\n",
    "    fig, axs = plt.subplots(1,heads)\n",
    "    plt.set_cmap('bwr')\n",
    "    if heads > 2:\n",
    "        plt.rcParams[\"figure.figsize\"] = (20,5)\n",
    "        fig, axs = plt.subplots(1,heads)\n",
    "        plt.set_cmap('bwr')\n",
    "        for i in range(heads):\n",
    "            ax = axs[i]\n",
    "            cax = ax.matshow(attention[i])\n",
    "            ax.set_xticks(range(len(labels)))\n",
    "            ax.set_yticks(range(len(labels)))\n",
    "            #labels = [label for label in R.to_numpy()[0]]\n",
    "            ax.set_xticklabels(labels, rotation=90)\n",
    "            #labels = [label for label in R.to_numpy()[0]]\n",
    "            ax.set_yticklabels(labels)\n",
    "            print(f\"head{i}: {tf.reduce_max(attention[i])}\")\n",
    "            print(f\"head{i}: {tf.reduce_min(attention[i])}\")\n",
    "        cbar = fig.colorbar(cax)\n",
    "    else:\n",
    "        plt.rcParams[\"figure.figsize\"] = (6,5)\n",
    "        fig, ax = plt.subplots(1,1)\n",
    "        plt.set_cmap('bwr')\n",
    "        cax = ax.matshow(attention)\n",
    "        ax.set_xticks(range(len(labels)))\n",
    "        ax.set_yticks(range(len(labels)))\n",
    "        #labels = [label for label in R.to_numpy()[0]]\n",
    "        ax.set_xticklabels(labels, rotation=90)\n",
    "        #labels = [label for label in R.to_numpy()[0]]\n",
    "        ax.set_yticklabels(labels)\n",
    "        print(f\"head: {tf.reduce_max(attention)}\")\n",
    "        print(f\"head: {tf.reduce_min(attention)}\")\n",
    "        cbar = fig.colorbar(cax)\n",
    "\n",
    "\n",
    "def plot_attention_head(sequence, attention, heads):\n",
    "    # The plot is of the attention when a token was generated.\n",
    "    # # The model didn't generate `<START>` in the output. Skip it.\n",
    "    labels = [label for label in sequence.to_numpy()[0]]\n",
    "    #translated_tokens = translated_tokens[1:]\n",
    "    #ax = plt.gca()\n",
    "    visualize_attention(heads = heads, labels=labels, attention=attention)\n",
    "    \n",
    "   "
   ]
  },
  {
   "cell_type": "code",
   "execution_count": 84,
   "id": "122b5636",
   "metadata": {},
   "outputs": [
    {
     "data": {
      "text/html": [
       "<div>\n",
       "<style scoped>\n",
       "    .dataframe tbody tr th:only-of-type {\n",
       "        vertical-align: middle;\n",
       "    }\n",
       "\n",
       "    .dataframe tbody tr th {\n",
       "        vertical-align: top;\n",
       "    }\n",
       "\n",
       "    .dataframe thead th {\n",
       "        text-align: right;\n",
       "    }\n",
       "</style>\n",
       "<table border=\"1\" class=\"dataframe\">\n",
       "  <thead>\n",
       "    <tr style=\"text-align: right;\">\n",
       "      <th></th>\n",
       "      <th>Sequence</th>\n",
       "      <th>RKA</th>\n",
       "      <th>RKA_norm</th>\n",
       "      <th>RKA_logplus1</th>\n",
       "      <th>MFE_level</th>\n",
       "      <th>seq_spaced</th>\n",
       "    </tr>\n",
       "  </thead>\n",
       "  <tbody>\n",
       "    <tr>\n",
       "      <th>0</th>\n",
       "      <td>GGGAGACCGGAAUUCAGAUUGAUGAAAAAAAA</td>\n",
       "      <td>1.657296</td>\n",
       "      <td>0.210370</td>\n",
       "      <td>0.977309</td>\n",
       "      <td>1</td>\n",
       "      <td>G G G A G A C C G G A A U U C A G A U U G A U ...</td>\n",
       "    </tr>\n",
       "    <tr>\n",
       "      <th>1</th>\n",
       "      <td>GGGAGACCGGAAUUCAGAUUGAUGAAAAAAAC</td>\n",
       "      <td>1.599794</td>\n",
       "      <td>0.203071</td>\n",
       "      <td>0.955432</td>\n",
       "      <td>1</td>\n",
       "      <td>G G G A G A C C G G A A U U C A G A U U G A U ...</td>\n",
       "    </tr>\n",
       "    <tr>\n",
       "      <th>2</th>\n",
       "      <td>GGGAGACCGGAAUUCAGAUUGAUGAAAAAAAG</td>\n",
       "      <td>1.335313</td>\n",
       "      <td>0.169499</td>\n",
       "      <td>0.848146</td>\n",
       "      <td>1</td>\n",
       "      <td>G G G A G A C C G G A A U U C A G A U U G A U ...</td>\n",
       "    </tr>\n",
       "    <tr>\n",
       "      <th>3</th>\n",
       "      <td>GGGAGACCGGAAUUCAGAUUGAUGAAAAAAAU</td>\n",
       "      <td>1.757485</td>\n",
       "      <td>0.223088</td>\n",
       "      <td>1.014319</td>\n",
       "      <td>1</td>\n",
       "      <td>G G G A G A C C G G A A U U C A G A U U G A U ...</td>\n",
       "    </tr>\n",
       "    <tr>\n",
       "      <th>4</th>\n",
       "      <td>GGGAGACCGGAAUUCAGAUUGAUGAAAAAACA</td>\n",
       "      <td>1.405845</td>\n",
       "      <td>0.178452</td>\n",
       "      <td>0.877901</td>\n",
       "      <td>1</td>\n",
       "      <td>G G G A G A C C G G A A U U C A G A U U G A U ...</td>\n",
       "    </tr>\n",
       "  </tbody>\n",
       "</table>\n",
       "</div>"
      ],
      "text/plain": [
       "                           Sequence       RKA  RKA_norm  RKA_logplus1  \\\n",
       "0  GGGAGACCGGAAUUCAGAUUGAUGAAAAAAAA  1.657296  0.210370      0.977309   \n",
       "1  GGGAGACCGGAAUUCAGAUUGAUGAAAAAAAC  1.599794  0.203071      0.955432   \n",
       "2  GGGAGACCGGAAUUCAGAUUGAUGAAAAAAAG  1.335313  0.169499      0.848146   \n",
       "3  GGGAGACCGGAAUUCAGAUUGAUGAAAAAAAU  1.757485  0.223088      1.014319   \n",
       "4  GGGAGACCGGAAUUCAGAUUGAUGAAAAAACA  1.405845  0.178452      0.877901   \n",
       "\n",
       "   MFE_level                                         seq_spaced  \n",
       "0          1  G G G A G A C C G G A A U U C A G A U U G A U ...  \n",
       "1          1  G G G A G A C C G G A A U U C A G A U U G A U ...  \n",
       "2          1  G G G A G A C C G G A A U U C A G A U U G A U ...  \n",
       "3          1  G G G A G A C C G G A A U U C A G A U U G A U ...  \n",
       "4          1  G G G A G A C C G G A A U U C A G A U U G A U ...  "
      ]
     },
     "execution_count": 84,
     "metadata": {},
     "output_type": "execute_result"
    }
   ],
   "source": [
    "df_input.head()"
   ]
  },
  {
   "cell_type": "markdown",
   "id": "db8e11ed",
   "metadata": {},
   "source": [
    "## Test individual sequence"
   ]
  },
  {
   "cell_type": "code",
   "execution_count": 109,
   "id": "8f4b2d8c",
   "metadata": {},
   "outputs": [
    {
     "name": "stdout",
     "output_type": "stream",
     "text": [
      "131    G C A U G C A C G A A A G U A C G U G C U A U ...\n",
      "Name: seq_spaced, dtype: object\n",
      "head: 0.8226249814033508\n",
      "head: 1.4750741739177897e-09\n",
      "sequence:  ['G C A U G C A C G A A A G U A C G U G C U A U G A A A A G A A U']\n",
      "predicted RKA: 1.239822268486023, real RKA 131    1.215655\n",
      "Name: RKA_logplus1, dtype: float64\n"
     ]
    },
    {
     "data": {
      "image/png": "[encoded data removed]",
      "text/plain": [
       "<Figure size 2000x500 with 2 Axes>"
      ]
     },
     "metadata": {},
     "output_type": "display_data"
    },
    {
     "data": {
      "image/png": "[encoded data removed]",
      "text/plain": [
       "<Figure size 600x500 with 2 Axes>"
      ]
     },
     "metadata": {},
     "output_type": "display_data"
    }
   ],
   "source": [
    "seq = 'GCAUGCACGAAAGUACGUGCUAUGAAAAGAAU'\n",
    "sequence_demo = df_input[df_input.Sequence == seq].seq_spaced\n",
    "print(sequence_demo)\n",
    "rka_for_show = df_input[df_input.Sequence == seq].RKA_logplus1\n",
    "p = vectorize_layer(sequence_demo)\n",
    "result = model(p)\n",
    "att = model.layers[1].get_attention()['attentions_1'][0][0]\n",
    "matmul_qk_s = model.layers[1].get_matmul_qks()['matmul_qk_1'][0][0]\n",
    "R = sequence_demo.str.split(\" \")\n",
    "plot_attention_head(R,att, num_heads)\n",
    "print('sequence: ', sequence_demo.to_numpy())\n",
    "print(f'predicted RKA: {result.numpy()}, real RKA {rka_for_show}')\n"
   ]
  },
  {
   "cell_type": "markdown",
   "id": "36b54b3d",
   "metadata": {},
   "source": [
    "## Verify the predicted result"
   ]
  },
  {
   "cell_type": "code",
   "execution_count": null,
   "id": "585e15f1",
   "metadata": {},
   "outputs": [
    {
     "name": "stderr",
     "output_type": "stream",
     "text": [
      "2023-02-18 23:05:31.723277: I tensorflow/core/grappler/optimizers/custom_graph_optimizer_registry.cc:113] Plugin optimizer for device_type GPU is enabled.\n"
     ]
    },
    {
     "name": "stdout",
     "output_type": "stream",
     "text": [
      "123/123 [==============================] - 4s 26ms/step\n"
     ]
    },
    {
     "data": {
      "text/plain": [
       "(12288,)"
      ]
     },
     "execution_count": 31,
     "metadata": {},
     "output_type": "execute_result"
    }
   ],
   "source": [
    "result = model.predict(all_vec_seq.batch(100))\n",
    "result.shape"
   ]
  },
  {
   "cell_type": "code",
   "execution_count": null,
   "id": "bfc33748",
   "metadata": {},
   "outputs": [
    {
     "name": "stderr",
     "output_type": "stream",
     "text": [
      "/Users/fatmimi/.pyenv/versions/3.8.7/envs/mactf-sandbox/lib/python3.8/site-packages/seaborn/_decorators.py:36: FutureWarning: Pass the following variables as keyword args: x, y. From version 0.12, the only valid positional argument will be `data`, and passing other arguments without an explicit keyword will result in an error or misinterpretation.\n",
      "  warnings.warn(\n"
     ]
    },
    {
     "data": {
      "text/plain": [
       "<AxesSubplot:xlabel='RKA'>"
      ]
     },
     "execution_count": 32,
     "metadata": {},
     "output_type": "execute_result"
    },
    {
     "data": {
      "image/png": "[encoded data removed]",
      "text/plain": [
       "<Figure size 600x500 with 1 Axes>"
      ]
     },
     "metadata": {},
     "output_type": "display_data"
    }
   ],
   "source": [
    "plt.rcParams[\"figure.figsize\"] = (6,5)\n",
    "sns.scatterplot(np.log(1+df_input.RKA), np.log(np.exp(result)))"
   ]
  },
  {
   "cell_type": "code",
   "execution_count": null,
   "id": "07484671",
   "metadata": {},
   "outputs": [
    {
     "data": {
      "text/plain": [
       "0.752468652818425"
      ]
     },
     "execution_count": 33,
     "metadata": {},
     "output_type": "execute_result"
    }
   ],
   "source": [
    "# Calculate R^2\n",
    "from sklearn.metrics import r2_score\n",
    "r2_score(np.log(1+df_input.RKA), result)"
   ]
  },
  {
   "cell_type": "code",
   "execution_count": null,
   "id": "45e4ab20",
   "metadata": {},
   "outputs": [
    {
     "name": "stderr",
     "output_type": "stream",
     "text": [
      "/Users/fatmimi/.pyenv/versions/3.8.7/envs/mactf-sandbox/lib/python3.8/site-packages/pandas/core/arraylike.py:402: RuntimeWarning: divide by zero encountered in log\n",
      "  result = getattr(ufunc, method)(*inputs, **kwargs)\n",
      "/var/folders/x_/gdpx2y_53xb045v6zhcn7rrr0000gn/T/ipykernel_8637/4144151818.py:2: RuntimeWarning: invalid value encountered in log\n",
      "  sns.histplot(np.log(np.exp(result)-1))\n"
     ]
    },
    {
     "data": {
      "text/plain": [
       "<AxesSubplot:xlabel='RKA', ylabel='Count'>"
      ]
     },
     "execution_count": 35,
     "metadata": {},
     "output_type": "execute_result"
    },
    {
     "data": {
      "image/png": "[encoded data removed]",
      "text/plain": [
       "<Figure size 600x500 with 1 Axes>"
      ]
     },
     "metadata": {},
     "output_type": "display_data"
    }
   ],
   "source": [
    "sns.histplot(np.log(df_input.RKA), color = \"orange\")\n",
    "sns.histplot(np.log(np.exp(result)-1))\n"
   ]
  },
  {
   "cell_type": "code",
   "execution_count": null,
   "id": "3fe5e26d-d2dd-41c1-8e3f-1150d5fecae0",
   "metadata": {},
   "outputs": [],
   "source": []
  }
 ],
 "metadata": {
  "interpreter": {
   "hash": "43609d96788f9f207c5e22c650b4a13ebb7a351aa95d515be949d18331f6c071"
  },
  "kernelspec": {
   "display_name": "Python 3 (ipykernel)",
   "language": "python",
   "name": "python3"
  },
  "language_info": {
   "codemirror_mode": {
    "name": "ipython",
    "version": 3
   },
   "file_extension": ".py",
   "mimetype": "text/x-python",
   "name": "python",
   "nbconvert_exporter": "python",
   "pygments_lexer": "ipython3",
   "version": "3.8.7"
  }
 },
 "nbformat": 4,
 "nbformat_minor": 5
}
